{
  "cells": [
    {
      "cell_type": "markdown",
      "source": [
        "<a href=\"https://colab.research.google.com/drive/1wILICRGQE5w2tTMPUZNArp-i19UcUhJW#scrollTo=mWQoXid6FpqA/Project.ipynb\" target=\"_parent\"><img src=\"https://colab.research.google.com/assets/colab-badge.svg\" alt=\"Open In Colab\"/></a>"
      ],
      "metadata": {
        "id": "K_XRL8NmGdp4"
      }
    },
    {
      "cell_type": "markdown",
      "source": [
        "# Photo Editor using Hand Gestures\n",
        "\n",
        "\n"
      ],
      "metadata": {
        "id": "O7rlJogVGdaR"
      }
    },
    {
      "cell_type": "code",
      "execution_count": null,
      "metadata": {
        "id": "mWQoXid6FpqA"
      },
      "outputs": [],
      "source": [
        "import numpy as np\n",
        "import cv2 as cv\n",
        "from tkinter import *\n",
        "from tkinter import colorchooser\n",
        "import datetime\n",
        "import math"
      ]
    },
    {
      "cell_type": "code",
      "execution_count": null,
      "metadata": {
        "id": "LGLKfeibFpqB"
      },
      "outputs": [],
      "source": [
        "background = None\n",
        "moveArray = []\n",
        "a = False\n",
        "b = False"
      ]
    },
    {
      "cell_type": "code",
      "execution_count": null,
      "metadata": {
        "id": "aWDd8IPwFpqB"
      },
      "outputs": [],
      "source": [
        "def getmask(img):\n",
        "    hsvim = cv.cvtColor(img, cv.COLOR_BGR2HSV)\n",
        "    lower = np.array([0, 48, 80], dtype=\"uint8\")\n",
        "    upper = np.array([20, 255, 255], dtype=\"uint8\")\n",
        "    skinRegionHSV = cv.inRange(hsvim, lower, upper)\n",
        "    blurred = cv.blur(skinRegionHSV, (2, 2))\n",
        "    ret, thresh = cv.threshold(blurred, 0, 255, cv.THRESH_BINARY)\n",
        "    # cv.imshow(\"thresh\", thresh)\n",
        "    global background\n",
        "    if background is None:\n",
        "        background = img\n",
        "    return thresh"
      ]
    },
    {
      "cell_type": "code",
      "execution_count": null,
      "metadata": {
        "id": "SdKAao7IFpqB"
      },
      "outputs": [],
      "source": [
        "def getcnthull(mask_img):\n",
        "    contours, hierarchy = cv.findContours(mask_img, cv.RETR_TREE, cv.CHAIN_APPROX_SIMPLE)\n",
        "    contours = max(contours, key=lambda x: cv.contourArea(x))\n",
        "    hull = cv.convexHull(contours)\n",
        "    return contours, hull"
      ]
    },
    {
      "cell_type": "code",
      "execution_count": null,
      "metadata": {
        "id": "grSA49q8FpqB"
      },
      "outputs": [],
      "source": [
        "def getdefects(contours):\n",
        "    hull = cv.convexHull(contours, returnPoints=False)\n",
        "    defects = cv.convexityDefects(contours, hull)\n",
        "    return defects"
      ]
    },
    {
      "cell_type": "code",
      "execution_count": null,
      "metadata": {
        "id": "V_pLS_7RFpqB"
      },
      "outputs": [],
      "source": [
        "def gettypemove(hull):\n",
        "    global moveArray\n",
        "    global a\n",
        "    global b\n",
        "    if cv.waitKey(1) & 0xFF == ord('a'):\n",
        "        a = True\n",
        "    if cv.waitKey(1) & 0xFF == ord('b'):\n",
        "        b = True\n",
        "\n",
        "    top = tuple(hull[hull[:, :, 1].argmin()][0])\n",
        "    bottom = tuple(hull[hull[:, :, 1].argmax()][0])\n",
        "    left = tuple(hull[hull[:, :, 0].argmin()][0])\n",
        "    right = tuple(hull[hull[:, :, 0].argmax()][0])\n",
        "    x1 = (top[0]+bottom[0])/2\n",
        "    x2 = (left[0]+right[0])/2\n",
        "    x = (x1+x2)/2\n",
        "    y1 = (top[1]+bottom[1])/2\n",
        "    y2 = (right[1]+left[1])/2\n",
        "    y = (y1+y2)/2\n",
        "    typeMove = 0\n",
        "    if (a is True) and (b is False):\n",
        "        moveArray.append((x,y))\n",
        "\n",
        "    elif (a is True) and (b is True):\n",
        "        a = False\n",
        "        b = False\n",
        "        print(moveArray)\n",
        "        c = int(moveArray.__len__()/4)\n",
        "        esx = moveArray[0][0]-moveArray[-1][0]\n",
        "        esy = moveArray[0][1]-moveArray[-1][1]\n",
        "        cx = moveArray[c][0]-moveArray[-c][0]\n",
        "        cy = moveArray[c][1]-moveArray[-c][1]\n",
        "        print(esx)\n",
        "        print(esy)\n",
        "        esxBool = (esx < 100) and (esx > -100)\n",
        "        esyBool = (esy < 100) and (esy > -100)\n",
        "        if esxBool:\n",
        "            if esyBool:\n",
        "                typeMove = 1\n",
        "                print(\"Move in Circle\")\n",
        "        if not esxBool:\n",
        "            if esyBool:\n",
        "                typeMove = 2\n",
        "                print(\"Move in Line 1\")\n",
        "        if esxBool:\n",
        "            if not esyBool:\n",
        "                typeMove = 3\n",
        "                print(\"Move in Line 2\")\n",
        "        if not esxBool:\n",
        "            if not esyBool:\n",
        "                if moveArray[0][1] > moveArray[-1][1] :\n",
        "                    typeMove = 4\n",
        "                elif moveArray[0][1] < moveArray[-1][1] :\n",
        "                    typeMove = 5\n",
        "    return typeMove"
      ]
    },
    {
      "cell_type": "code",
      "execution_count": null,
      "metadata": {
        "id": "tu7S9I0uFpqC"
      },
      "outputs": [],
      "source": [
        "def getTransform(image,typeMove):\n",
        "    result = image\n",
        "    if typeMove == 1 :\n",
        "        print(typeMove)\n",
        "        rows,cols,c = image.shape\n",
        "        M=cv.getRotationMatrix2D((cols/2,rows/2), 90,1)\n",
        "        result = cv.warpAffine(image,M,(cols,rows))\n",
        "    elif typeMove == 2 :\n",
        "        print(typeMove)\n",
        "        result = cv.flip(image,1)\n",
        "    elif typeMove == 3 :\n",
        "        print(typeMove)\n",
        "        result = cv.flip(image,0)\n",
        "    elif typeMove == 4 :\n",
        "        print(typeMove)\n",
        "        img = cv.resize(image, None, fx=2, fy=2)\n",
        "        result = img[360:1080,360:1080]\n",
        "    elif typeMove == 5 :\n",
        "        print(typeMove)\n",
        "        img = cv.resize(image, None, fx=0.5, fy=0.5)\n",
        "        for i in range(result.shape[0]):\n",
        "            for j in range(result.shape[1]):\n",
        "                result[i,j] = [0,0,0]\n",
        "        for i in range(180,540):\n",
        "            for j in range(180,540):\n",
        "                result[i,j]=img[i-180,j-180]\n",
        "    return result"
      ]
    },
    {
      "cell_type": "code",
      "execution_count": null,
      "metadata": {
        "id": "t2gJorzJFpqC"
      },
      "outputs": [],
      "source": [
        "traslateBool = False\n",
        "\n",
        "def getTransalte(image,hull):\n",
        "    global traslateBool\n",
        "    if cv.waitKey(1) & 0xFF == ord('t'):\n",
        "        traslateBool = not traslateBool\n",
        "    result = image\n",
        "    if traslateBool is True:\n",
        "        top = tuple(hull[hull[:, :, 1].argmin()][0])\n",
        "        bottom = tuple(hull[hull[:, :, 1].argmax()][0])\n",
        "        left = tuple(hull[hull[:, :, 0].argmin()][0])\n",
        "        right = tuple(hull[hull[:, :, 0].argmax()][0])\n",
        "        x1 = (top[0]+bottom[0])/2\n",
        "        x2 = (left[0]+right[0])/2\n",
        "        x = (x1+x2)/2\n",
        "        y1 = (top[1]+bottom[1])/2\n",
        "        y2 = (right[1]+left[1])/2\n",
        "        y = (y1+y2)/2\n",
        "        dxc = x - 360\n",
        "        dyc = y - 360\n",
        "        M = np.float32([[1, 0, dxc],\n",
        "                [0, 1, dyc]])\n",
        "        result = cv.warpAffine(image,M,(720,720))\n",
        "    return result"
      ]
    },
    {
      "cell_type": "code",
      "execution_count": null,
      "metadata": {
        "id": "e13_Mmc7FpqC"
      },
      "outputs": [],
      "source": [
        "color_code = [0,0,0]\n",
        "\n",
        "def choose_color():\n",
        "    global color_code\n",
        "    color = colorchooser.askcolor(title =\"Choose color\")\n",
        "    color_code = list(reversed(list(color[0])))\n",
        "\n",
        "def getColor():\n",
        "    root = Tk()\n",
        "    button = Button(root, text = \"Select Color\",\n",
        "                    command = choose_color)\n",
        "    button.pack()\n",
        "    root.geometry(\"30x30\")\n",
        "    root.mainloop()\n",
        "\n",
        "Ds = 3\n",
        "\n",
        "def drawImage(image,hull):\n",
        "    global Ds\n",
        "    if cv.waitKey(1) & 0xFF == ord('c'):\n",
        "        getColor()\n",
        "    if (cv.waitKey(1) & 0xFF == ord('m')) and (Ds <= 97):\n",
        "        Ds += 3\n",
        "    if (cv.waitKey(1) & 0xFF == ord('n')) and (Ds >= 3):\n",
        "        Ds -= 3\n",
        "    y , x = tuple(hull[hull[:, :, 1].argmin()][0])\n",
        "    w , h , c = image.shape\n",
        "    s = Ds\n",
        "    if ((x > 0) and (x < w)) and ((y > 0) and (y < h)):\n",
        "        image[x:x+s, y:y+s] = color_code\n",
        "    return image"
      ]
    },
    {
      "cell_type": "code",
      "execution_count": null,
      "metadata": {
        "id": "utVxRtKCFpqC"
      },
      "outputs": [],
      "source": [
        "Rs = 3\n",
        "\n",
        "def drawDelete(lastImage,image,hull):\n",
        "    global Rs\n",
        "    if (cv.waitKey(1) & 0xFF == ord('m')) and (Rs <= 97):\n",
        "        Rs += 3\n",
        "    if (cv.waitKey(1) & 0xFF == ord('n')) and (Rs >= 3):\n",
        "        Rs -= 3\n",
        "    y , x = tuple(hull[hull[:, :, 1].argmin()][0])\n",
        "    w , h , c = image.shape\n",
        "    s = Rs\n",
        "    if ((x > 0) and (x < w)) and ((y > 0) and (y < h)):\n",
        "        image[x:x+s,y:y+s] = lastImage[x:x+s,y:y+s]\n",
        "    return image"
      ]
    },
    {
      "cell_type": "code",
      "execution_count": null,
      "metadata": {
        "id": "vnEwSm7XFpqC"
      },
      "outputs": [],
      "source": [
        "warpBool = False\n",
        "\n",
        "def getWarp(image,hull):\n",
        "    global warpBool\n",
        "    if cv.waitKey(1) & 0xFF == ord('w'):\n",
        "        warpBool = not warpBool\n",
        "    result = image\n",
        "    if warpBool is True:\n",
        "        top = tuple(hull[hull[:, :, 1].argmin()][0])\n",
        "        bottom = tuple(hull[hull[:, :, 1].argmax()][0])\n",
        "        left = tuple(hull[hull[:, :, 0].argmin()][0])\n",
        "        right = tuple(hull[hull[:, :, 0].argmax()][0])\n",
        "        x1 = (top[0]+bottom[0])/2\n",
        "        x2 = (left[0]+right[0])/2\n",
        "        x = (x1+x2)/2\n",
        "        y1 = (top[1]+bottom[1])/2\n",
        "        y2 = (right[1]+left[1])/2\n",
        "        y = (y1+y2)/2\n",
        "        dxc = (x - 360)/5\n",
        "        dyc = (y - 360)/5\n",
        "        result = np.zeros(image.shape, dtype=image.dtype)\n",
        "        rows, cols, c = image.shape\n",
        "        for i in range(rows):\n",
        "            for j in range(cols):\n",
        "                offset_x = int(5.0 * math.sin(2 * 3.14 * i / dxc))\n",
        "                offset_y = int(5.0 * math.cos(2 * 3.14 * j / dyc))\n",
        "                if i+offset_y < rows and j+offset_x < cols:\n",
        "                    result[i,j] = image[(i+offset_y)%rows,(j+offset_x)%cols]\n",
        "                else:\n",
        "                    result[i,j] = 0\n",
        "    return result"
      ]
    },
    {
      "cell_type": "code",
      "execution_count": null,
      "metadata": {
        "id": "TJdRyDpNFpqC"
      },
      "outputs": [],
      "source": [
        "startDraw  = False\n",
        "startDelete = False\n",
        "\n",
        "def runApp():\n",
        "    image = cv.imread('F:\\My Own\\Photo/20220213_091956.jpg')\n",
        "    # image = cv.imread('Images/imageResult.jpg')\n",
        "    src = cv.imread('F:\\My Own\\Photo/20220213_091956.jpg')\n",
        "    lastImage = cv.imread('F:\\My Own\\Photo/20220213_091956.jpg')\n",
        "    cap = cv.VideoCapture(0)\n",
        "    while cap.isOpened():\n",
        "        _, img = cap.read()\n",
        "        img = cv.flip(img,1)\n",
        "        mask_img = getmask(img)\n",
        "        contours, hull = getcnthull(mask_img)\n",
        "        cv.drawContours(img, [contours], -1, (255, 255, 0), 2)\n",
        "        cv.drawContours(img, [hull], -1, (0, 255, 255), 2)\n",
        "        defects = getdefects(contours)\n",
        "        trans = gettypemove(hull)\n",
        "        image = getTransform(image,trans)\n",
        "        image = getTransalte(image,hull)\n",
        "        image = getWarp(image,hull)\n",
        "        if cv.waitKey(1) & 0xFF == ord('d'):\n",
        "            global startDraw\n",
        "            if startDraw is False:\n",
        "                lastImage = image\n",
        "                print(startDraw)\n",
        "            startDraw = not startDraw\n",
        "        if cv.waitKey(1) & 0xFF == ord('x'):\n",
        "            global startDelete\n",
        "            startDelete = not startDelete\n",
        "        if startDraw is True :\n",
        "            image = drawImage(image,hull)\n",
        "        if startDelete is True :\n",
        "            iamge = drawDelete(lastImage,image,hull)\n",
        "        if cv.waitKey(1) & 0xFF == ord('s'):\n",
        "            cv.imwrite(\"Images/imageResult.jpg\",image)\n",
        "        if cv.waitKey(1) & 0xFF == ord('r'):\n",
        "            image = src\n",
        "        # cv.putText(img, \"\", (0, 50), cv.FONT_HERSHEY_SIMPLEX,1, (255, 0, 0) , 2, cv.LINE_AA)\n",
        "        if defects is not None:\n",
        "            cnt = 0\n",
        "            for i in range(defects.shape[0]):  # calculate the angle\n",
        "                s, e, f, d = defects[i][0]\n",
        "                start = tuple(contours[s][0])\n",
        "                end = tuple(contours[e][0])\n",
        "                far = tuple(contours[f][0])\n",
        "                a = np.sqrt((end[0] - start[0]) ** 2 + (end[1] - start[1]) ** 2)\n",
        "                b = np.sqrt((far[0] - start[0]) ** 2 + (far[1] - start[1]) ** 2)\n",
        "                c = np.sqrt((end[0] - far[0]) ** 2 + (end[1] - far[1]) ** 2)\n",
        "                angle = np.arccos((b ** 2 + c ** 2 - a ** 2) / (2 * b * c))\n",
        "                if angle <= np.pi / 2:\n",
        "                    cnt += 1\n",
        "                    cv.circle(img, far, 4, [0, 0, 255], -1)\n",
        "            if cnt > 0:\n",
        "                cnt = cnt + 1\n",
        "            cv.putText(img, str(cnt), (0, 50), cv.FONT_HERSHEY_SIMPLEX,1, (255, 0, 0) , 2, cv.LINE_AA)\n",
        "            # print(str(cnt))\n",
        "        imWidth = 720\n",
        "        imHeight = 720\n",
        "        img = cv.resize(img, (imWidth, imHeight))\n",
        "        cv.imshow(\"Image :\", img)\n",
        "        cv.imshow(\"Edit Image : \", image)\n",
        "        if cv.waitKey(1) & 0xFF == ord('q'):\n",
        "            break\n",
        "    cap.release()\n",
        "    cv.destroyAllWindows()"
      ]
    },
    {
      "cell_type": "code",
      "source": [
        "runApp()"
      ],
      "metadata": {
        "id": "RVYuqKqWFyz4"
      },
      "execution_count": null,
      "outputs": []
    },
    {
      "cell_type": "code",
      "source": [
        "esx = -436.5\n",
        "esy = 246.75\n",
        "esxBool = (esx < 100) and (esx > -100)\n",
        "esyBool = (esy < 100) and (esy > -100)\n",
        "if not esxBool:\n",
        "    if not esyBool:\n",
        "        typeMove = 4\n",
        "        if moveArray[0][1] > moveArray[-1][1] :\n",
        "            typeMove = 4\n",
        "        elif moveArray[0][1] < moveArray[-1][1] :\n",
        "            typeMove = 5"
      ],
      "metadata": {
        "id": "MzE85_IvFy3c"
      },
      "execution_count": null,
      "outputs": []
    }
  ],
  "metadata": {
    "kernelspec": {
      "display_name": "Python 3.10.7 64-bit",
      "language": "python",
      "name": "python3"
    },
    "language_info": {
      "codemirror_mode": {
        "name": "ipython",
        "version": 3
      },
      "file_extension": ".py",
      "mimetype": "text/x-python",
      "name": "python",
      "nbconvert_exporter": "python",
      "pygments_lexer": "ipython3",
      "version": "3.10.7"
    },
    "orig_nbformat": 4,
    "vscode": {
      "interpreter": {
        "hash": "1332702bb0418443b876ed48795cec35b18a43e394eef3e1fab4da325ade0dfb"
      }
    },
    "colab": {
      "provenance": []
    }
  },
  "nbformat": 4,
  "nbformat_minor": 0
}